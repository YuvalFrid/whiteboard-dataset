{
 "cells": [
  {
   "cell_type": "code",
   "execution_count": 1,
   "id": "37e7b5f3-9e95-441c-90ac-03d229343b34",
   "metadata": {},
   "outputs": [],
   "source": [
    "import numpy as np \n",
    "import matplotlib.pyplot as plt \n",
    "from adjustText import adjust_text\n",
    "from pdb import set_trace as st \n",
    "import random\n",
    "import json\n",
    "import os \n",
    "from tqdm import tqdm\n",
    "import string\n",
    "from src.Aux import * \n",
    "from src.Triangles import Triangle\n",
    "from src.Illustrate import * "
   ]
  },
  {
   "cell_type": "code",
   "execution_count": 2,
   "id": "b7253f06-cc92-4e1c-9e5d-9fdcebd6060d",
   "metadata": {},
   "outputs": [
    {
     "name": "stdout",
     "output_type": "stream",
     "text": [
      "Reading image data: 697932 images of 28x28 pixels.\n",
      "Reading label data: 697932 labels.\n"
     ]
    }
   ],
   "source": [
    "emnist_loc = \"/home/yfrid/Desktop/stem-whiteboard/dataset/mnist/EMNIST/raw/\"\n",
    "emnist_images = read_idx_ubyte(emnist_loc+\"emnist-byclass-train-images-idx3-ubyte\")\n",
    "emnist_labels = read_idx_ubyte(emnist_loc+\"emnist-byclass-train-labels-idx1-ubyte\")\n",
    "emnist_chars = string.digits+string.ascii_uppercase+string.ascii_lowercase\n",
    "EMNIST = EMNIST_Handler(emnist_images,emnist_labels,emnist_chars)"
   ]
  },
  {
   "cell_type": "code",
   "execution_count": 3,
   "id": "b650fb4d-fac1-4748-a7ae-85b0260a06fa",
   "metadata": {},
   "outputs": [],
   "source": [
    "lower_letters = string.ascii_lowercase\n",
    "#greek_letters = ['α', 'β', 'γ', 'δ', 'θ']\n",
    "\n",
    "def plot_geometry_improved(description):\n",
    "    labels = []\n",
    "    handwritten = bool(random.getrandbits(1))\n",
    "    # Set up the plot with some padding\n",
    "    all_x = [v[\"x\"] for v in description[\"vertices\"]]\n",
    "    all_y = [v[\"y\"] for v in description[\"vertices\"]]\n",
    "    x_range = max(all_x) - min(all_x)\n",
    "    y_range = max(all_y) - min(all_y)\n",
    "    padding = max(x_range, y_range) * 0.1\n",
    "    \n",
    "    ax.set_xlim(min(all_x) - padding, max(all_x) + padding)\n",
    "    ax.set_ylim(min(all_y) - padding, max(all_y) + padding)\n",
    "    \n",
    "\n",
    "#################################################### VERTICES    \n",
    "    labels = plot_vertices(description,ax,EMNIST,handwritten)\n",
    "####################################################### SEGMENTS\n",
    "    description[\"index_lookup\"] = {d[\"mark\"]: i for i, d in enumerate(description[\"vertices\"])} ## add index to each vertice for easier search\n",
    "    description,segment_labels = plot_segments(description,ax,EMNIST,handwritten)\n",
    "\n",
    "################################################### ANGLES\n",
    "    description, angle_labels = plot_angles(description,ax,EMNIST,handwritten)\n",
    "    \n",
    "    # Combine all labels for adjustment\n",
    "    all_labels = labels + segment_labels + angle_labels\n",
    "    \n",
    "    # Get all non-text artists (points, lines) to avoid\n",
    "    avoid_objects = [artist for artist in ax.get_children() \n",
    "                    if not isinstance(artist, plt.Text)]\n",
    "    \n",
    "    # Fine-tune the label positioning\n",
    "    adjust_text(all_labels, ax=ax,\n",
    "                add_objects=avoid_objects,\n",
    "                expand_points=(1.5, 1.5),    # Distance from points\n",
    "                expand_text=(1.2, 1.2),     # Distance between labels\n",
    "                expand_objects=(1.2, 1.2),  # Distance from lines/objects\n",
    "                arrowprops=dict(arrowstyle='-', color='gray', alpha=0.5, lw=0.5),\n",
    "                force_points=(0.5, 0.5),    # Force to avoid points\n",
    "                force_text=(0.5, 0.5),      # Force to avoid text overlap\n",
    "                force_objects=(0.3, 0.3),   # Force to avoid other objects\n",
    "                lim=1000)                   # Maximum iterations\n",
    "    \n",
    "    ax.set_aspect('equal')\n",
    "    ax.axis('off')\n",
    "#    ax.set_title('Geometry Problem', \n",
    " #fontsize=16, fontweight='bold', pad=20)\n",
    "    \n",
    "    plt.tight_layout()\n",
    "    return description\n",
    "\n",
    "\n",
    "def convert_numpy_types(obj):\n",
    "    if isinstance(obj, np.bool_):\n",
    "        return bool(obj)\n",
    "    elif isinstance(obj, (np.int_, np.intc, np.intp, np.int8, np.int16, np.int32, np.int64)):\n",
    "        return int(obj)\n",
    "    elif isinstance(obj, (np.float_, np.float16, np.float32, np.float64)):\n",
    "        return float(obj)\n",
    "    elif isinstance(obj, dict):\n",
    "        return {k: convert_numpy_types(v) for k, v in obj.items()}\n",
    "    elif isinstance(obj, (list, tuple)):\n",
    "        return [convert_numpy_types(v) for v in obj]\n",
    "    else:\n",
    "        return obj\n",
    "\n"
   ]
  },
  {
   "cell_type": "code",
   "execution_count": 7,
   "id": "195b4ce2-3644-48a9-a6ef-d024cd36b6b8",
   "metadata": {
    "scrolled": true
   },
   "outputs": [
    {
     "data": {
      "text/plain": [
       "{'vertices': [{'mark': 'A', 'x': 0, 'y': 0},\n",
       "  {'mark': 'B', 'x': 2, 'y': 0},\n",
       "  {'mark': 'C', 'x': -0.895680680456432, 'y': 7},\n",
       "  {'mark': 'D', 'x': 1.0, 'y': 0.0},\n",
       "  {'mark': 'E', 'x': 1.0, 'y': 7.815285238074859}],\n",
       " 'segments': [{'mark': 'AB', 'known': True, 'length': 2.0, 'unit': ['cm']},\n",
       "  {'mark': 'AC', 'known': False},\n",
       "  {'mark': 'BC', 'known': True, 'length': 'q', 'unit': ['cm']},\n",
       "  {'mark': 'AD', 'known': True, 'length': 1.0, 'unit': ['cm']},\n",
       "  {'mark': 'DE', 'known': True, 'length': 'h', 'unit': ['cm']}],\n",
       " 'angles': [{'mark': 'ABC', 'known': True, 'value': 67.53, 'unit': 'deg'},\n",
       "  {'mark': 'BCA', 'known': False},\n",
       "  {'mark': 'CAB', 'known': True, 'value': 97.29, 'unit': 'deg'},\n",
       "  {'mark': 'ADE', 'known': True, 'value': 90.0, 'unit': 'deg'}],\n",
       " 'specials': [{'type': 'median_perpendicular',\n",
       "   'start': 'E',\n",
       "   'end': 'D',\n",
       "   'base': 'AB'}],\n",
       " 'questions': ['Find angle BCA'],\n",
       " 'index_lookup': {'A': 0, 'B': 1, 'C': 2, 'D': 3, 'E': 4}}"
      ]
     },
     "execution_count": 7,
     "metadata": {},
     "output_type": "execute_result"
    },
    {
     "data": {
      "image/png": "[encoded data removed]",
      "text/plain": [
       "<Figure size 256x256 with 1 Axes>"
      ]
     },
     "metadata": {},
     "output_type": "display_data"
    }
   ],
   "source": [
    "fig, ax = plt.subplots(figsize=(8,8),dpi = 32)\n",
    "tri = Triangle(2,7)\n",
    "tri.third_vertice(\"scalene\")\n",
    "tri.add_perpendicular(\"AB\",\"C\")\n",
    "tri.set_question()\n",
    "plot_geometry_improved(tri.description)"
   ]
  }
 ],
 "metadata": {
  "kernelspec": {
   "display_name": "Python 3 (ipykernel)",
   "language": "python",
   "name": "python3"
  },
  "language_info": {
   "codemirror_mode": {
    "name": "ipython",
    "version": 3
   },
   "file_extension": ".py",
   "mimetype": "text/x-python",
   "name": "python",
   "nbconvert_exporter": "python",
   "pygments_lexer": "ipython3",
   "version": "3.8.10"
  }
 },
 "nbformat": 4,
 "nbformat_minor": 5
}
